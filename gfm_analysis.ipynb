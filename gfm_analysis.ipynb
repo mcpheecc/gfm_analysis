{
 "cells": [
  {
   "cell_type": "code",
   "execution_count": 1,
   "metadata": {},
   "outputs": [],
   "source": [
    "import pandas as pd\n",
    "import numpy as np\n",
    "import plotly.plotly as py\n",
    "import plotly.graph_objs as go\n",
    "import statsmodels.api as sm"
   ]
  },
  {
   "cell_type": "code",
   "execution_count": 2,
   "metadata": {},
   "outputs": [],
   "source": [
    "df = pd.concat([pd.read_csv('dataset/gfm/memorial_df.csv'),pd.read_csv('dataset/gfm/animal_df.csv'),pd.read_csv('dataset/gfm/business_df.csv'),pd.read_csv('dataset/gfm/family_df.csv'),pd.read_csv('dataset/gfm/medical_df.csv'),pd.read_csv('dataset/gfm/newlywed_df.csv')],ignore_index=True)"
   ]
  },
  {
   "cell_type": "code",
   "execution_count": 3,
   "metadata": {},
   "outputs": [],
   "source": [
    "def get_state(location):\n",
    "    try:\n",
    "        return location[-2:]\n",
    "    except:\n",
    "        return np.nan"
   ]
  },
  {
   "cell_type": "code",
   "execution_count": 4,
   "metadata": {},
   "outputs": [],
   "source": [
    "df['State'] = df.apply(lambda row: get_state(row.Location), axis=1)"
   ]
  },
  {
   "cell_type": "code",
   "execution_count": 5,
   "metadata": {},
   "outputs": [],
   "source": [
    "def get_mean(location):\n",
    "    if type(location)==str:\n",
    "        location = location.upper()\n",
    "        if location in city_list:\n",
    "            result = city_df.loc[location,'Mean']\n",
    "            if type(result)==np.int64:\n",
    "                return result\n",
    "            else:\n",
    "                candidate = result.iloc[0]\n",
    "                for i in result:\n",
    "                    if i>0:\n",
    "                        if i<candidate:\n",
    "                            candidate = i\n",
    "                return candidate\n",
    "        else:\n",
    "            return np.nan"
   ]
  },
  {
   "cell_type": "code",
   "execution_count": 6,
   "metadata": {},
   "outputs": [],
   "source": [
    "def get_location(location):\n",
    "    if type(location)==str:\n",
    "        location = location.upper()\n",
    "        if location in city_list:\n",
    "            latitude = city_df.loc[location,\"Lat\"]\n",
    "            if type(latitude)!=np.float64:\n",
    "                latitude = latitude.iloc[0]\n",
    "            longitude = city_df.loc[location,\"Lon\"]\n",
    "            if type(longitude)!=np.float64:\n",
    "                longitude = longitude.iloc[0]\n",
    "            return (latitude,longitude)\n",
    "        else:\n",
    "            return np.nan\n",
    "    else:\n",
    "        return np.nan"
   ]
  },
  {
   "cell_type": "code",
   "execution_count": 7,
   "metadata": {},
   "outputs": [],
   "source": [
    "def get_latitude(coords):\n",
    "    try:\n",
    "        return coords[0]\n",
    "    except:\n",
    "        return None"
   ]
  },
  {
   "cell_type": "code",
   "execution_count": 8,
   "metadata": {},
   "outputs": [],
   "source": [
    "def get_longitude(coords):\n",
    "    try:\n",
    "        return coords[1]\n",
    "    except:\n",
    "        return None"
   ]
  },
  {
   "cell_type": "code",
   "execution_count": 8,
   "metadata": {},
   "outputs": [],
   "source": [
    "def save_obj(obj, name):\n",
    "    with open(name + '.pkl', 'wb') as f:\n",
    "        pickle.dump(obj, f, pickle.HIGHEST_PROTOCOL)"
   ]
  },
  {
   "cell_type": "code",
   "execution_count": 9,
   "metadata": {},
   "outputs": [],
   "source": [
    "def load_obj(name):\n",
    "    with open(name + '.pkl', 'rb') as f:\n",
    "        return pickle.load(f)"
   ]
  },
  {
   "cell_type": "code",
   "execution_count": 9,
   "metadata": {},
   "outputs": [],
   "source": [
    "geo_df = pd.read_csv('dataset/kaggle_income.csv',encoding='latin-1')"
   ]
  },
  {
   "cell_type": "code",
   "execution_count": 10,
   "metadata": {},
   "outputs": [],
   "source": [
    "geo_df['Location'] = geo_df.apply(lambda row: (row.City+', '+row.State_ab).upper(),axis=1)"
   ]
  },
  {
   "cell_type": "code",
   "execution_count": 11,
   "metadata": {},
   "outputs": [],
   "source": [
    "city_df = geo_df.sort_values(by=['Location'])"
   ]
  },
  {
   "cell_type": "code",
   "execution_count": 12,
   "metadata": {},
   "outputs": [],
   "source": [
    "city_list = list(geo_df['Location'])"
   ]
  },
  {
   "cell_type": "code",
   "execution_count": 13,
   "metadata": {},
   "outputs": [],
   "source": [
    "city_df = city_df.set_index(['Location'])"
   ]
  },
  {
   "cell_type": "code",
   "execution_count": 14,
   "metadata": {},
   "outputs": [],
   "source": [
    "df['Mean'] = df.apply(lambda row: get_mean(row.Location),axis=1)"
   ]
  },
  {
   "cell_type": "code",
   "execution_count": 15,
   "metadata": {},
   "outputs": [],
   "source": [
    "def get_class(income):\n",
    "    if income<46000:\n",
    "        return 'lower'\n",
    "    if income<135000:\n",
    "        return 'middle'\n",
    "    else:\n",
    "        return 'upper'"
   ]
  },
  {
   "cell_type": "code",
   "execution_count": 24,
   "metadata": {},
   "outputs": [],
   "source": [
    "df['Class'] = df.apply(lambda row: get_class(row.Mean),axis=1)"
   ]
  },
  {
   "cell_type": "code",
   "execution_count": 25,
   "metadata": {},
   "outputs": [],
   "source": [
    "df[\"Coords\"] = df.apply(lambda row: get_location(row.Location), axis=1)"
   ]
  },
  {
   "cell_type": "code",
   "execution_count": 26,
   "metadata": {},
   "outputs": [],
   "source": [
    "def pass_fail(funds,goal):\n",
    "    try:\n",
    "        goal = float(goal.replace(',',''))\n",
    "        funds = float(funds)\n",
    "    except:\n",
    "        return np.nan\n",
    "    if funds>goal:\n",
    "        return True\n",
    "    return False"
   ]
  },
  {
   "cell_type": "code",
   "execution_count": 27,
   "metadata": {},
   "outputs": [],
   "source": [
    "df[\"Pass\"] = df.apply(lambda row: pass_fail(row.Amount_Raised,row.Goal),axis=1)"
   ]
  },
  {
   "cell_type": "code",
   "execution_count": 21,
   "metadata": {},
   "outputs": [],
   "source": [
    "map_file = open('mapbox.txt','r').readlines()"
   ]
  },
  {
   "cell_type": "code",
   "execution_count": 23,
   "metadata": {},
   "outputs": [],
   "source": [
    "mapbox_access_token = map_file[0] #read from a file if posting on github"
   ]
  },
  {
   "cell_type": "code",
   "execution_count": 28,
   "metadata": {},
   "outputs": [],
   "source": [
    "def goal_percent(funds,goal):\n",
    "    try:\n",
    "        goal = float(goal.replace(',',''))\n",
    "        funds = float(funds)\n",
    "    except:\n",
    "        return np.nan\n",
    "    return funds/goal"
   ]
  },
  {
   "cell_type": "code",
   "execution_count": 29,
   "metadata": {},
   "outputs": [],
   "source": [
    "df['Goal_Percent'] = df.apply(lambda row: goal_percent(row.Amount_Raised,row.Goal),axis=1)"
   ]
  },
  {
   "cell_type": "code",
   "execution_count": 30,
   "metadata": {},
   "outputs": [],
   "source": [
    "df['Latitude'] = df.apply(lambda row: get_latitude(row.Coords),axis=1)"
   ]
  },
  {
   "cell_type": "code",
   "execution_count": 31,
   "metadata": {},
   "outputs": [],
   "source": [
    "df['Longitude'] = df.apply(lambda row: get_longitude(row.Coords),axis=1)"
   ]
  },
  {
   "cell_type": "code",
   "execution_count": 34,
   "metadata": {},
   "outputs": [],
   "source": [
    "df['Goal_Scale'] = df.apply(lambda row: min(row.Goal_Percent*100,300),axis=1)"
   ]
  },
  {
   "cell_type": "code",
   "execution_count": 35,
   "metadata": {},
   "outputs": [],
   "source": [
    "df_drop = df[~df['Coords'].isna()]"
   ]
  },
  {
   "cell_type": "code",
   "execution_count": 36,
   "metadata": {},
   "outputs": [],
   "source": [
    "df_drop = df_drop[~df_drop['Goal_Percent'].isna()]"
   ]
  },
  {
   "cell_type": "code",
   "execution_count": 38,
   "metadata": {},
   "outputs": [],
   "source": [
    "scl = [0, 'rgb(139,0,0)'],[0.33, 'rgb(255,255,0)'],[0.5,'rgb(0,255,0)'],[1,'rgb(0,100,0)']"
   ]
  },
  {
   "cell_type": "code",
   "execution_count": 39,
   "metadata": {
    "scrolled": true
   },
   "outputs": [],
   "source": [
    "data = [go.Scattergeo(lat=df_drop['Latitude'],lon=df_drop['Longitude'],text=df_drop['Title'],\n",
    "                     marker = dict(color = df_drop['Goal_Scale'],colorscale=scl,cauto=False,cmin=0,cmax=300,opacity=0.7,size=10,colorbar=dict(\n",
    "                     thickness = 10,titleside = \"right\",outlinecolor = \"rgba(68, 68, 68, 0)\",ticks = \"outside\",ticklen = 3,showticksuffix = \"last\",ticksuffix = \" Percent\",dtick = 20)))]\n",
    "layout = dict(\n",
    "    geo = dict(\n",
    "        scope = 'usa',\n",
    "        showland = True,\n",
    "        landcolor = \"rgb(212, 212, 212)\",\n",
    "        subunitcolor = \"rgb(255, 255, 255)\",\n",
    "        countrycolor = \"rgb(255, 255, 255)\",\n",
    "        showlakes = True,\n",
    "        lakecolor = \"rgb(255, 255, 255)\",\n",
    "        showsubunits = True,\n",
    "        showcountries = True,\n",
    "        resolution = 50,\n",
    "        projection = dict(\n",
    "            type = 'albers usa',\n",
    "            rotation = dict(\n",
    "                lon = -100\n",
    "            )\n",
    "        ),\n",
    "        lonaxis = dict(\n",
    "            showgrid = True,\n",
    "            gridwidth = 0.5,\n",
    "            range= [ -140.0, -55.0 ],\n",
    "            dtick = 5\n",
    "        ),\n",
    "        lataxis = dict (\n",
    "            showgrid = True,\n",
    "            gridwidth = 0.5,\n",
    "            range= [ 20.0, 60.0 ],\n",
    "            dtick = 5\n",
    "        )\n",
    "    ),\n",
    "    title = 'Heat_test',\n",
    ")"
   ]
  },
  {
   "cell_type": "code",
   "execution_count": 40,
   "metadata": {},
   "outputs": [
    {
     "name": "stderr",
     "output_type": "stream",
     "text": [
      "C:\\Users\\Trash\\Anaconda3\\lib\\site-packages\\IPython\\core\\display.py:689: UserWarning:\n",
      "\n",
      "Consider using IPython.display.IFrame instead\n",
      "\n"
     ]
    },
    {
     "data": {
      "text/html": [
       "<iframe id=\"igraph\" scrolling=\"no\" style=\"border:none;\" seamless=\"seamless\" src=\"https://plot.ly/~mcpheecc/107.embed\" height=\"525px\" width=\"100%\"></iframe>"
      ],
      "text/plain": [
       "<chart_studio.tools.PlotlyDisplay object>"
      ]
     },
     "execution_count": 40,
     "metadata": {},
     "output_type": "execute_result"
    }
   ],
   "source": [
    "fig = go.Figure(data=data, layout=layout )\n",
    "py.iplot(fig, filename='Heat_test')"
   ]
  },
  {
   "cell_type": "code",
   "execution_count": 41,
   "metadata": {},
   "outputs": [],
   "source": [
    "def draw_map(df):\n",
    "    data = [go.Scattergeo(lat=df['Latitude'],lon=df['Longitude'],text=df['Title'],\n",
    "                     marker = dict(color = df['Goal_Scale'],colorscale=scl,cauto=False,cmin=0,cmax=300,opacity=0.7,size=10,colorbar=dict(\n",
    "                     thickness = 10,titleside = \"right\",outlinecolor = \"rgba(68, 68, 68, 0)\",ticks = \"outside\",ticklen = 3,showticksuffix = \"last\",ticksuffix = \" Percent\",dtick = 20)))]\n",
    "    layout = dict(\n",
    "        geo = dict(\n",
    "            scope = 'usa',\n",
    "            showland = True,\n",
    "            landcolor = \"rgb(212, 212, 212)\",\n",
    "            subunitcolor = \"rgb(255, 255, 255)\",\n",
    "            countrycolor = \"rgb(255, 255, 255)\",\n",
    "            showlakes = True,\n",
    "            lakecolor = \"rgb(255, 255, 255)\",\n",
    "            showsubunits = True,\n",
    "            showcountries = True,\n",
    "            resolution = 50,\n",
    "            projection = dict(\n",
    "                type = 'albers usa',\n",
    "                rotation = dict(\n",
    "                    lon = -100\n",
    "                )\n",
    "            ),\n",
    "            lonaxis = dict(\n",
    "                showgrid = True,\n",
    "                gridwidth = 0.5,\n",
    "                range= [ -140.0, -55.0 ],\n",
    "                dtick = 5\n",
    "            ),\n",
    "            lataxis = dict (\n",
    "                showgrid = True,\n",
    "                gridwidth = 0.5,\n",
    "                range= [ 20.0, 60.0 ],\n",
    "                dtick = 5\n",
    "            )\n",
    "        ),\n",
    "        title = 'Heat_test',\n",
    "    \n",
    "    )\n",
    "    fig = go.Figure(data=data, layout=layout )\n",
    "    return fig"
   ]
  },
  {
   "cell_type": "code",
   "execution_count": 48,
   "metadata": {},
   "outputs": [],
   "source": [
    "medical_df = df[df[\"Category\"]=='Medical'].copy()"
   ]
  },
  {
   "cell_type": "code",
   "execution_count": 49,
   "metadata": {},
   "outputs": [],
   "source": [
    "def to_string(amount):\n",
    "    try:\n",
    "        amount = float(amount.replace(',',''))\n",
    "    except:\n",
    "        if 'M' in amount:\n",
    "            amount = amount[0:-1]\n",
    "            amount = float(amount)*1000000\n",
    "    return amount"
   ]
  },
  {
   "cell_type": "code",
   "execution_count": 50,
   "metadata": {},
   "outputs": [],
   "source": [
    "medical_df['Goal'] = medical_df.apply(lambda row: to_string(row.Goal),axis=1)"
   ]
  },
  {
   "cell_type": "code",
   "execution_count": 51,
   "metadata": {},
   "outputs": [],
   "source": [
    "medical_df['Goal_Percent'] = medical_df.apply(lambda row: row.Amount_Raised/row.Goal,axis=1)"
   ]
  },
  {
   "cell_type": "code",
   "execution_count": 52,
   "metadata": {},
   "outputs": [],
   "source": [
    "medical_df['Pass'] = medical_df.apply(lambda row: True if row.Amount_Raised>row.Goal else False,axis=1)"
   ]
  },
  {
   "cell_type": "code",
   "execution_count": 53,
   "metadata": {},
   "outputs": [],
   "source": [
    "medical_df['Pass80'] = medical_df.apply(lambda row: True if row.Goal_Percent>0.8 else False,axis=1)"
   ]
  },
  {
   "cell_type": "code",
   "execution_count": 54,
   "metadata": {},
   "outputs": [],
   "source": [
    "medical_df_drop = medical_df[~medical_df['Mean'].isna()]"
   ]
  },
  {
   "cell_type": "code",
   "execution_count": 55,
   "metadata": {},
   "outputs": [],
   "source": [
    "medical_df_drop = medical_df_drop[medical_df_drop['Goal_Percent']<10]"
   ]
  },
  {
   "cell_type": "code",
   "execution_count": 57,
   "metadata": {},
   "outputs": [],
   "source": [
    "X = medical_df_drop['Mean']"
   ]
  },
  {
   "cell_type": "code",
   "execution_count": 58,
   "metadata": {},
   "outputs": [],
   "source": [
    "Y = medical_df_drop['Goal_Percent']"
   ]
  },
  {
   "cell_type": "code",
   "execution_count": 59,
   "metadata": {},
   "outputs": [],
   "source": [
    "X_s = sm.add_constant(X)"
   ]
  },
  {
   "cell_type": "code",
   "execution_count": 60,
   "metadata": {},
   "outputs": [],
   "source": [
    "Y_binary = medical_df_drop['Pass']"
   ]
  },
  {
   "cell_type": "code",
   "execution_count": 61,
   "metadata": {},
   "outputs": [],
   "source": [
    "Y_binary2 = medical_df_drop['Pass80']"
   ]
  },
  {
   "cell_type": "code",
   "execution_count": 62,
   "metadata": {},
   "outputs": [],
   "source": [
    "model = sm.OLS(Y,X_s)"
   ]
  },
  {
   "cell_type": "code",
   "execution_count": 63,
   "metadata": {},
   "outputs": [],
   "source": [
    "results = model.fit()"
   ]
  },
  {
   "cell_type": "code",
   "execution_count": 64,
   "metadata": {},
   "outputs": [
    {
     "data": {
      "text/plain": [
       "const    8.597607e-01\n",
       "Mean     7.623895e-07\n",
       "dtype: float64"
      ]
     },
     "execution_count": 64,
     "metadata": {},
     "output_type": "execute_result"
    }
   ],
   "source": [
    "results.params"
   ]
  },
  {
   "cell_type": "code",
   "execution_count": 65,
   "metadata": {
    "scrolled": true
   },
   "outputs": [
    {
     "name": "stdout",
     "output_type": "stream",
     "text": [
      "                            OLS Regression Results                            \n",
      "==============================================================================\n",
      "Dep. Variable:           Goal_Percent   R-squared:                       0.001\n",
      "Model:                            OLS   Adj. R-squared:                  0.000\n",
      "Method:                 Least Squares   F-statistic:                     1.110\n",
      "Date:                Fri, 31 May 2019   Prob (F-statistic):              0.292\n",
      "Time:                        15:35:35   Log-Likelihood:                -1013.6\n",
      "No. Observations:                 904   AIC:                             2031.\n",
      "Df Residuals:                     902   BIC:                             2041.\n",
      "Df Model:                           1                                         \n",
      "Covariance Type:            nonrobust                                         \n",
      "==============================================================================\n",
      "                 coef    std err          t      P>|t|      [0.025      0.975]\n",
      "------------------------------------------------------------------------------\n",
      "const          0.8598      0.045     19.057      0.000       0.771       0.948\n",
      "Mean        7.624e-07   7.23e-07      1.054      0.292   -6.58e-07    2.18e-06\n",
      "==============================================================================\n",
      "Omnibus:                     1048.547   Durbin-Watson:                   1.602\n",
      "Prob(Omnibus):                  0.000   Jarque-Bera (JB):           106147.959\n",
      "Skew:                           5.679   Prob(JB):                         0.00\n",
      "Kurtosis:                      54.856   Cond. No.                     1.14e+05\n",
      "==============================================================================\n",
      "\n",
      "Warnings:\n",
      "[1] Standard Errors assume that the covariance matrix of the errors is correctly specified.\n",
      "[2] The condition number is large, 1.14e+05. This might indicate that there are\n",
      "strong multicollinearity or other numerical problems.\n"
     ]
    }
   ],
   "source": [
    "print(results.summary())"
   ]
  },
  {
   "cell_type": "code",
   "execution_count": 66,
   "metadata": {},
   "outputs": [],
   "source": [
    "model2 = sm.Logit(Y_binary,X_s)"
   ]
  },
  {
   "cell_type": "code",
   "execution_count": 67,
   "metadata": {},
   "outputs": [
    {
     "name": "stdout",
     "output_type": "stream",
     "text": [
      "Optimization terminated successfully.\n",
      "         Current function value: 0.609819\n",
      "         Iterations 5\n"
     ]
    }
   ],
   "source": [
    "results2 = model2.fit()"
   ]
  },
  {
   "cell_type": "code",
   "execution_count": 68,
   "metadata": {
    "scrolled": true
   },
   "outputs": [
    {
     "data": {
      "text/html": [
       "<table class=\"simpletable\">\n",
       "<caption>Logit Regression Results</caption>\n",
       "<tr>\n",
       "  <th>Dep. Variable:</th>       <td>Pass</td>       <th>  No. Observations:  </th>  <td>   904</td> \n",
       "</tr>\n",
       "<tr>\n",
       "  <th>Model:</th>               <td>Logit</td>      <th>  Df Residuals:      </th>  <td>   902</td> \n",
       "</tr>\n",
       "<tr>\n",
       "  <th>Method:</th>               <td>MLE</td>       <th>  Df Model:          </th>  <td>     1</td> \n",
       "</tr>\n",
       "<tr>\n",
       "  <th>Date:</th>          <td>Fri, 31 May 2019</td> <th>  Pseudo R-squ.:     </th> <td>0.001405</td>\n",
       "</tr>\n",
       "<tr>\n",
       "  <th>Time:</th>              <td>15:35:41</td>     <th>  Log-Likelihood:    </th> <td> -551.28</td>\n",
       "</tr>\n",
       "<tr>\n",
       "  <th>converged:</th>           <td>True</td>       <th>  LL-Null:           </th> <td> -552.05</td>\n",
       "</tr>\n",
       "<tr>\n",
       "  <th> </th>                      <td> </td>        <th>  LLR p-value:       </th>  <td>0.2130</td> \n",
       "</tr>\n",
       "</table>\n",
       "<table class=\"simpletable\">\n",
       "<tr>\n",
       "    <td></td>       <th>coef</th>     <th>std err</th>      <th>z</th>      <th>P>|z|</th>  <th>[0.025</th>    <th>0.975]</th>  \n",
       "</tr>\n",
       "<tr>\n",
       "  <th>const</th> <td>   -0.9866</td> <td>    0.133</td> <td>   -7.397</td> <td> 0.000</td> <td>   -1.248</td> <td>   -0.725</td>\n",
       "</tr>\n",
       "<tr>\n",
       "  <th>Mean</th>  <td> 2.621e-06</td> <td>  2.1e-06</td> <td>    1.250</td> <td> 0.211</td> <td>-1.49e-06</td> <td> 6.73e-06</td>\n",
       "</tr>\n",
       "</table>"
      ],
      "text/plain": [
       "<class 'statsmodels.iolib.summary.Summary'>\n",
       "\"\"\"\n",
       "                           Logit Regression Results                           \n",
       "==============================================================================\n",
       "Dep. Variable:                   Pass   No. Observations:                  904\n",
       "Model:                          Logit   Df Residuals:                      902\n",
       "Method:                           MLE   Df Model:                            1\n",
       "Date:                Fri, 31 May 2019   Pseudo R-squ.:                0.001405\n",
       "Time:                        15:35:41   Log-Likelihood:                -551.28\n",
       "converged:                       True   LL-Null:                       -552.05\n",
       "                                        LLR p-value:                    0.2130\n",
       "==============================================================================\n",
       "                 coef    std err          z      P>|z|      [0.025      0.975]\n",
       "------------------------------------------------------------------------------\n",
       "const         -0.9866      0.133     -7.397      0.000      -1.248      -0.725\n",
       "Mean        2.621e-06    2.1e-06      1.250      0.211   -1.49e-06    6.73e-06\n",
       "==============================================================================\n",
       "\"\"\""
      ]
     },
     "execution_count": 68,
     "metadata": {},
     "output_type": "execute_result"
    }
   ],
   "source": [
    "results2.summary()"
   ]
  },
  {
   "cell_type": "code",
   "execution_count": 69,
   "metadata": {},
   "outputs": [],
   "source": [
    "model3 = sm.Logit(Y_binary2,X_s)"
   ]
  },
  {
   "cell_type": "code",
   "execution_count": 70,
   "metadata": {},
   "outputs": [
    {
     "name": "stdout",
     "output_type": "stream",
     "text": [
      "Optimization terminated successfully.\n",
      "         Current function value: 0.691653\n",
      "         Iterations 4\n"
     ]
    }
   ],
   "source": [
    "results3 = model3.fit()"
   ]
  },
  {
   "cell_type": "code",
   "execution_count": 71,
   "metadata": {
    "scrolled": true
   },
   "outputs": [
    {
     "data": {
      "text/html": [
       "<table class=\"simpletable\">\n",
       "<caption>Logit Regression Results</caption>\n",
       "<tr>\n",
       "  <th>Dep. Variable:</th>      <td>Pass80</td>      <th>  No. Observations:  </th>  <td>   904</td> \n",
       "</tr>\n",
       "<tr>\n",
       "  <th>Model:</th>               <td>Logit</td>      <th>  Df Residuals:      </th>  <td>   902</td> \n",
       "</tr>\n",
       "<tr>\n",
       "  <th>Method:</th>               <td>MLE</td>       <th>  Df Model:          </th>  <td>     1</td> \n",
       "</tr>\n",
       "<tr>\n",
       "  <th>Date:</th>          <td>Fri, 31 May 2019</td> <th>  Pseudo R-squ.:     </th> <td>0.002028</td>\n",
       "</tr>\n",
       "<tr>\n",
       "  <th>Time:</th>              <td>15:35:50</td>     <th>  Log-Likelihood:    </th> <td> -625.25</td>\n",
       "</tr>\n",
       "<tr>\n",
       "  <th>converged:</th>           <td>True</td>       <th>  LL-Null:           </th> <td> -626.53</td>\n",
       "</tr>\n",
       "<tr>\n",
       "  <th> </th>                      <td> </td>        <th>  LLR p-value:       </th>  <td>0.1109</td> \n",
       "</tr>\n",
       "</table>\n",
       "<table class=\"simpletable\">\n",
       "<tr>\n",
       "    <td></td>       <th>coef</th>     <th>std err</th>      <th>z</th>      <th>P>|z|</th>  <th>[0.025</th>    <th>0.975]</th>  \n",
       "</tr>\n",
       "<tr>\n",
       "  <th>const</th> <td>   -0.1356</td> <td>    0.122</td> <td>   -1.115</td> <td> 0.265</td> <td>   -0.374</td> <td>    0.103</td>\n",
       "</tr>\n",
       "<tr>\n",
       "  <th>Mean</th>  <td> 3.112e-06</td> <td> 1.96e-06</td> <td>    1.590</td> <td> 0.112</td> <td>-7.23e-07</td> <td> 6.95e-06</td>\n",
       "</tr>\n",
       "</table>"
      ],
      "text/plain": [
       "<class 'statsmodels.iolib.summary.Summary'>\n",
       "\"\"\"\n",
       "                           Logit Regression Results                           \n",
       "==============================================================================\n",
       "Dep. Variable:                 Pass80   No. Observations:                  904\n",
       "Model:                          Logit   Df Residuals:                      902\n",
       "Method:                           MLE   Df Model:                            1\n",
       "Date:                Fri, 31 May 2019   Pseudo R-squ.:                0.002028\n",
       "Time:                        15:35:50   Log-Likelihood:                -625.25\n",
       "converged:                       True   LL-Null:                       -626.53\n",
       "                                        LLR p-value:                    0.1109\n",
       "==============================================================================\n",
       "                 coef    std err          z      P>|z|      [0.025      0.975]\n",
       "------------------------------------------------------------------------------\n",
       "const         -0.1356      0.122     -1.115      0.265      -0.374       0.103\n",
       "Mean        3.112e-06   1.96e-06      1.590      0.112   -7.23e-07    6.95e-06\n",
       "==============================================================================\n",
       "\"\"\""
      ]
     },
     "execution_count": 71,
     "metadata": {},
     "output_type": "execute_result"
    }
   ],
   "source": [
    "results3.summary()"
   ]
  },
  {
   "cell_type": "code",
   "execution_count": 72,
   "metadata": {},
   "outputs": [],
   "source": [
    "lower_df = medical_df_drop[medical_df_drop['Class']=='lower']"
   ]
  },
  {
   "cell_type": "code",
   "execution_count": 73,
   "metadata": {},
   "outputs": [],
   "source": [
    "middle_df = medical_df_drop[medical_df_drop['Class']=='middle']"
   ]
  },
  {
   "cell_type": "code",
   "execution_count": 74,
   "metadata": {},
   "outputs": [],
   "source": [
    "tresult = sm.stats.ttest_ind(middle_df['Mean'], lower_df['Mean'],usevar='unequal')"
   ]
  },
  {
   "cell_type": "code",
   "execution_count": 75,
   "metadata": {},
   "outputs": [
    {
     "data": {
      "text/plain": [
       "(45.04055543251784, 1.5621597027671235e-186, 549.1306447278355)"
      ]
     },
     "execution_count": 75,
     "metadata": {},
     "output_type": "execute_result"
    }
   ],
   "source": [
    "tresult"
   ]
  },
  {
   "cell_type": "code",
   "execution_count": 76,
   "metadata": {},
   "outputs": [],
   "source": [
    "dummy_region_df = medical_df_drop[medical_df_drop['State']!='NY']"
   ]
  },
  {
   "cell_type": "code",
   "execution_count": 77,
   "metadata": {},
   "outputs": [],
   "source": [
    "dummy_region_df = dummy_region_df[dummy_region_df['State']!='CA']"
   ]
  },
  {
   "cell_type": "code",
   "execution_count": 78,
   "metadata": {},
   "outputs": [],
   "source": [
    "dummy_region_df = dummy_region_df[dummy_region_df['State']!='VA']"
   ]
  },
  {
   "cell_type": "code",
   "execution_count": 79,
   "metadata": {},
   "outputs": [],
   "source": [
    "dummy_region_df = dummy_region_df[dummy_region_df['State']!='DC']"
   ]
  },
  {
   "cell_type": "code",
   "execution_count": 80,
   "metadata": {},
   "outputs": [],
   "source": [
    "dummy_region_df = dummy_region_df[dummy_region_df['State']!='FL']"
   ]
  },
  {
   "cell_type": "code",
   "execution_count": 81,
   "metadata": {},
   "outputs": [],
   "source": [
    "dummy_region_df = dummy_region_df[dummy_region_df['State']!='WA']"
   ]
  },
  {
   "cell_type": "code",
   "execution_count": 82,
   "metadata": {},
   "outputs": [],
   "source": [
    "dummy_region_df = dummy_region_df[dummy_region_df['State']!='TX']"
   ]
  },
  {
   "cell_type": "code",
   "execution_count": 83,
   "metadata": {},
   "outputs": [],
   "source": [
    "city_region_df = medical_df_drop[~medical_df_drop.index.isin(dummy_region_df.index)]"
   ]
  },
  {
   "cell_type": "code",
   "execution_count": 84,
   "metadata": {},
   "outputs": [],
   "source": [
    "tresult2 = sm.stats.ttest_ind(dummy_region_df['Mean'], city_region_df['Mean'],usevar='unequal')"
   ]
  },
  {
   "cell_type": "code",
   "execution_count": 85,
   "metadata": {
    "scrolled": true
   },
   "outputs": [
    {
     "data": {
      "text/plain": [
       "(4.77781135422645, 2.067858327491998e-06, 901.998137511994)"
      ]
     },
     "execution_count": 85,
     "metadata": {},
     "output_type": "execute_result"
    }
   ],
   "source": [
    "tresult2"
   ]
  },
  {
   "cell_type": "code",
   "execution_count": 86,
   "metadata": {},
   "outputs": [],
   "source": [
    "chi_test = sm.stats.proportions_chisquare([city_region_df['Pass'].sum(),dummy_region_df['Pass'].sum()],[len(city_region_df),len(dummy_region_df)])"
   ]
  },
  {
   "cell_type": "code",
   "execution_count": 87,
   "metadata": {},
   "outputs": [
    {
     "data": {
      "text/plain": [
       "(11.885084558873519, 0.0005658525653910414, (array([[104, 322],\n",
       "         [167, 311]], dtype=int64), array([[127.70575221, 298.29424779],\n",
       "         [143.29424779, 334.70575221]])))"
      ]
     },
     "execution_count": 87,
     "metadata": {},
     "output_type": "execute_result"
    }
   ],
   "source": [
    "chi_test"
   ]
  },
  {
   "cell_type": "code",
   "execution_count": 88,
   "metadata": {},
   "outputs": [],
   "source": [
    "chi_test2 = sm.stats.proportions_chisquare([lower_df['Pass'].sum(),middle_df['Pass'].sum()],[len(lower_df),len(middle_df)])"
   ]
  },
  {
   "cell_type": "code",
   "execution_count": 89,
   "metadata": {},
   "outputs": [
    {
     "data": {
      "text/plain": [
       "(0.017751971928947254, 0.8940063245755203, (array([[139, 330],\n",
       "         [125, 291]], dtype=int64), array([[139.90508475, 329.09491525],\n",
       "         [124.09491525, 291.90508475]])))"
      ]
     },
     "execution_count": 89,
     "metadata": {},
     "output_type": "execute_result"
    }
   ],
   "source": [
    "chi_test2"
   ]
  },
  {
   "cell_type": "code",
   "execution_count": 90,
   "metadata": {},
   "outputs": [],
   "source": [
    "chi_test3 = sm.stats.proportions_chisquare([city_region_df['Pass80'].sum(),dummy_region_df['Pass80'].sum()],[len(city_region_df),len(dummy_region_df)])"
   ]
  },
  {
   "cell_type": "code",
   "execution_count": 91,
   "metadata": {},
   "outputs": [
    {
     "data": {
      "text/plain": [
       "(13.753517049508789, 0.00020843020097267186, (array([[188, 238],\n",
       "         [270, 208]], dtype=int64), array([[215.82743363, 210.17256637],\n",
       "         [242.17256637, 235.82743363]])))"
      ]
     },
     "execution_count": 91,
     "metadata": {},
     "output_type": "execute_result"
    }
   ],
   "source": [
    "chi_test3"
   ]
  },
  {
   "cell_type": "code",
   "execution_count": 92,
   "metadata": {},
   "outputs": [],
   "source": [
    "chi_test4 = sm.stats.proportions_chisquare([lower_df['Pass80'].sum(),middle_df['Pass80'].sum()],[len(lower_df),len(middle_df)])"
   ]
  },
  {
   "cell_type": "code",
   "execution_count": 93,
   "metadata": {},
   "outputs": [
    {
     "data": {
      "text/plain": [
       "(0.4223963531228118, 0.5157437262228715, (array([[231, 238],\n",
       "         [214, 202]], dtype=int64), array([[235.82485876, 233.17514124],\n",
       "         [209.17514124, 206.82485876]])))"
      ]
     },
     "execution_count": 93,
     "metadata": {},
     "output_type": "execute_result"
    }
   ],
   "source": [
    "chi_test4"
   ]
  },
  {
   "cell_type": "code",
   "execution_count": 131,
   "metadata": {},
   "outputs": [],
   "source": [
    "medical_df_drop.to_csv('medical_df_final.csv')"
   ]
  },
  {
   "cell_type": "code",
   "execution_count": 103,
   "metadata": {
    "scrolled": true
   },
   "outputs": [
    {
     "name": "stderr",
     "output_type": "stream",
     "text": [
      "C:\\Users\\Trash\\Anaconda3\\lib\\site-packages\\IPython\\core\\display.py:689: UserWarning:\n",
      "\n",
      "Consider using IPython.display.IFrame instead\n",
      "\n"
     ]
    },
    {
     "data": {
      "text/html": [
       "<iframe id=\"igraph\" scrolling=\"no\" style=\"border:none;\" seamless=\"seamless\" src=\"https://plot.ly/~mcpheecc/111.embed\" height=\"600px\" width=\"900px\"></iframe>"
      ],
      "text/plain": [
       "<chart_studio.tools.PlotlyDisplay object>"
      ]
     },
     "execution_count": 103,
     "metadata": {},
     "output_type": "execute_result"
    }
   ],
   "source": [
    "ny_df = medical_df_drop[medical_df_drop['State']=='NY']\n",
    "\n",
    "data = [go.Scattermapbox(lat=ny_df['Latitude'],lon=ny_df['Longitude'],text=ny_df['Title'],mode='markers',marker=dict(color = ny_df['Goal_Scale'],colorscale=scl,cauto=False,cmin=0,cmax=300,size=10,opacity=.8))]\n",
    "\n",
    "layout = go.Layout(autosize=False,mapbox=dict(accesstoken=mapbox_access_token,bearing=10,pitch=0,zoom=5,center=dict(lat=ny_df['Latitude'].mean(),lon=ny_df['Longitude'].mean())),width=900,height=600,title=\"Test NY\")\n",
    "\n",
    "fig = dict(data=data,layout=layout)\n",
    "py.iplot(fig)"
   ]
  },
  {
   "cell_type": "code",
   "execution_count": 114,
   "metadata": {},
   "outputs": [
    {
     "name": "stderr",
     "output_type": "stream",
     "text": [
      "C:\\Users\\Trash\\Anaconda3\\lib\\site-packages\\IPython\\core\\display.py:689: UserWarning:\n",
      "\n",
      "Consider using IPython.display.IFrame instead\n",
      "\n"
     ]
    },
    {
     "data": {
      "text/html": [
       "<iframe id=\"igraph\" scrolling=\"no\" style=\"border:none;\" seamless=\"seamless\" src=\"https://plot.ly/~mcpheecc/119.embed\" height=\"600px\" width=\"900px\"></iframe>"
      ],
      "text/plain": [
       "<chart_studio.tools.PlotlyDisplay object>"
      ]
     },
     "execution_count": 114,
     "metadata": {},
     "output_type": "execute_result"
    }
   ],
   "source": [
    "cal_df = medical_df_drop[medical_df_drop['State']=='CA']\n",
    "\n",
    "data = [go.Scattermapbox(lat=cal_df['Latitude'],lon=cal_df['Longitude'],text=cal_df['Title'],mode='markers',marker=dict(color = cal_df['Goal_Scale'],colorscale=scl,cauto=False,cmin=0,cmax=300,size=10,opacity=.8))]\n",
    "\n",
    "layout = go.Layout(autosize=False,mapbox=dict(accesstoken=mapbox_access_token,bearing=10,pitch=0,zoom=5,center=dict(lat=cal_df['Latitude'].mean(),lon=cal_df['Longitude'].mean())),width=900,height=600,title=\"Test California\")\n",
    "\n",
    "fig = dict(data=data,layout=layout)\n",
    "py.iplot(fig)"
   ]
  },
  {
   "cell_type": "code",
   "execution_count": 107,
   "metadata": {},
   "outputs": [
    {
     "name": "stderr",
     "output_type": "stream",
     "text": [
      "C:\\Users\\Trash\\Anaconda3\\lib\\site-packages\\IPython\\core\\display.py:689: UserWarning:\n",
      "\n",
      "Consider using IPython.display.IFrame instead\n",
      "\n"
     ]
    },
    {
     "data": {
      "text/html": [
       "<iframe id=\"igraph\" scrolling=\"no\" style=\"border:none;\" seamless=\"seamless\" src=\"https://plot.ly/~mcpheecc/113.embed\" height=\"600px\" width=\"900px\"></iframe>"
      ],
      "text/plain": [
       "<chart_studio.tools.PlotlyDisplay object>"
      ]
     },
     "execution_count": 107,
     "metadata": {},
     "output_type": "execute_result"
    }
   ],
   "source": [
    "texas_df = medical_df_drop[medical_df_drop['State']=='TX']\n",
    "\n",
    "data = [go.Scattermapbox(lat=texas_df['Latitude'],lon=texas_df['Longitude'],text=texas_df['Title'],mode='markers',marker=dict(color = texas_df['Goal_Scale'],colorscale=scl,cauto=False,cmin=0,cmax=300,size=10,opacity=.8))]\n",
    "\n",
    "layout = go.Layout(autosize=False,mapbox=dict(accesstoken=mapbox_access_token,bearing=10,pitch=0,zoom=5,center=dict(lat=texas_df['Latitude'].mean(),lon=texas_df['Longitude'].mean())),width=900,height=600,title=\"Test Texas\")\n",
    "\n",
    "fig = dict(data=data,layout=layout)\n",
    "py.iplot(fig)"
   ]
  },
  {
   "cell_type": "code",
   "execution_count": 109,
   "metadata": {},
   "outputs": [
    {
     "name": "stderr",
     "output_type": "stream",
     "text": [
      "C:\\Users\\Trash\\Anaconda3\\lib\\site-packages\\IPython\\core\\display.py:689: UserWarning:\n",
      "\n",
      "Consider using IPython.display.IFrame instead\n",
      "\n"
     ]
    },
    {
     "data": {
      "text/html": [
       "<iframe id=\"igraph\" scrolling=\"no\" style=\"border:none;\" seamless=\"seamless\" src=\"https://plot.ly/~mcpheecc/115.embed\" height=\"600px\" width=\"900px\"></iframe>"
      ],
      "text/plain": [
       "<chart_studio.tools.PlotlyDisplay object>"
      ]
     },
     "execution_count": 109,
     "metadata": {},
     "output_type": "execute_result"
    }
   ],
   "source": [
    "dmv_df = medical_df_drop[(medical_df_drop[\"State\"]=='VA')|(medical_df_drop[\"State\"]=='DC')|(medical_df_drop['State']=='MD')]\n",
    "\n",
    "data = [go.Scattermapbox(lat=dmv_df['Latitude'],lon=dmv_df['Longitude'],text=dmv_df['Title'],mode='markers',marker=dict(color = dmv_df['Goal_Scale'],colorscale=scl,cauto=False,cmin=0,cmax=300,size=10,opacity=.8))]\n",
    "\n",
    "layout = go.Layout(autosize=False,mapbox=dict(accesstoken=mapbox_access_token,bearing=10,pitch=0,zoom=5,center=dict(lat=dmv_df['Latitude'].mean(),lon=dmv_df['Longitude'].mean())),width=900,height=600,title=\"Test DMV\")\n",
    "\n",
    "fig = dict(data=data,layout=layout)\n",
    "py.iplot(fig)"
   ]
  },
  {
   "cell_type": "code",
   "execution_count": 115,
   "metadata": {},
   "outputs": [
    {
     "name": "stderr",
     "output_type": "stream",
     "text": [
      "C:\\Users\\Trash\\Anaconda3\\lib\\site-packages\\IPython\\core\\display.py:689: UserWarning:\n",
      "\n",
      "Consider using IPython.display.IFrame instead\n",
      "\n"
     ]
    },
    {
     "data": {
      "text/html": [
       "<iframe id=\"igraph\" scrolling=\"no\" style=\"border:none;\" seamless=\"seamless\" src=\"https://plot.ly/~mcpheecc/121.embed\" height=\"600px\" width=\"900px\"></iframe>"
      ],
      "text/plain": [
       "<chart_studio.tools.PlotlyDisplay object>"
      ]
     },
     "execution_count": 115,
     "metadata": {},
     "output_type": "execute_result"
    }
   ],
   "source": [
    "fl_df = medical_df_drop[medical_df_drop[\"State\"]=='FL']\n",
    "data = [go.Scattermapbox(lat=fl_df['Latitude'],lon=fl_df['Longitude'],text=fl_df['Title'],mode='markers',marker=dict(color = fl_df['Goal_Scale'],colorscale=scl,cauto=False,cmin=0,cmax=300,size=10,opacity=.8))]\n",
    "\n",
    "layout = go.Layout(autosize=False,mapbox=dict(accesstoken=mapbox_access_token,bearing=10,pitch=0,zoom=5,center=dict(lat=fl_df['Latitude'].mean(),lon=fl_df['Longitude'].mean())),width=900,height=600,title=\"Test Florida\")\n",
    "\n",
    "fig = dict(data=data,layout=layout)\n",
    "py.iplot(fig)"
   ]
  },
  {
   "cell_type": "code",
   "execution_count": null,
   "metadata": {},
   "outputs": [],
   "source": []
  }
 ],
 "metadata": {
  "kernelspec": {
   "display_name": "Python 3",
   "language": "python",
   "name": "python3"
  },
  "language_info": {
   "codemirror_mode": {
    "name": "ipython",
    "version": 3
   },
   "file_extension": ".py",
   "mimetype": "text/x-python",
   "name": "python",
   "nbconvert_exporter": "python",
   "pygments_lexer": "ipython3",
   "version": "3.7.1"
  }
 },
 "nbformat": 4,
 "nbformat_minor": 2
}
